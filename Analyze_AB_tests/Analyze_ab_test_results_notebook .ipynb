{
 "cells": [
  {
   "cell_type": "markdown",
   "metadata": {},
   "source": [
    "## Analyze A/B Test Results\n",
    "\n",
    "\n",
    "\n",
    "## Table of Contents\n",
    "- [Introduction](#intro)\n",
    "- [Part I - Probability](#probability)\n",
    "- [Part II - A/B Test](#ab_test)\n",
    "- [Part III - Regression](#regression)\n",
    "\n",
    "\n",
    "<a id='intro'></a>\n",
    "### Introduction\n",
    "\n",
    "A/B tests are very commonly performed by data analysts and data scientists.\n",
    "\n",
    "\n",
    "\n",
    "<a id='probability'></a>\n",
    "#### Part I - Probability\n",
    "\n",
    "To get started, let's import our libraries."
   ]
  },
  {
   "cell_type": "code",
   "execution_count": 1,
   "metadata": {},
   "outputs": [],
   "source": [
    "import pandas as pd\n",
    "import numpy as np\n",
    "import random\n",
    "import matplotlib.pyplot as plt\n",
    "%matplotlib inline\n",
    "#We are setting the seed to assure you get the same answers on quizzes as we set up\n",
    "random.seed(42)"
   ]
  },
  {
   "cell_type": "markdown",
   "metadata": {},
   "source": [
    "`1.` Now, read in the `ab_data.csv` data. Store it in `df`.  **Use your dataframe to answer the questions in Quiz 1 of the classroom.**\n",
    "\n",
    "a. Read in the dataset and take a look at the top few rows here:"
   ]
  },
  {
   "cell_type": "code",
   "execution_count": 2,
   "metadata": {},
   "outputs": [
    {
     "data": {
      "text/html": [
       "<div>\n",
       "<style scoped>\n",
       "    .dataframe tbody tr th:only-of-type {\n",
       "        vertical-align: middle;\n",
       "    }\n",
       "\n",
       "    .dataframe tbody tr th {\n",
       "        vertical-align: top;\n",
       "    }\n",
       "\n",
       "    .dataframe thead th {\n",
       "        text-align: right;\n",
       "    }\n",
       "</style>\n",
       "<table border=\"1\" class=\"dataframe\">\n",
       "  <thead>\n",
       "    <tr style=\"text-align: right;\">\n",
       "      <th></th>\n",
       "      <th>user_id</th>\n",
       "      <th>timestamp</th>\n",
       "      <th>group</th>\n",
       "      <th>landing_page</th>\n",
       "      <th>converted</th>\n",
       "    </tr>\n",
       "  </thead>\n",
       "  <tbody>\n",
       "    <tr>\n",
       "      <th>0</th>\n",
       "      <td>851104</td>\n",
       "      <td>2017-01-21 22:11:48.556739</td>\n",
       "      <td>control</td>\n",
       "      <td>old_page</td>\n",
       "      <td>0</td>\n",
       "    </tr>\n",
       "    <tr>\n",
       "      <th>1</th>\n",
       "      <td>804228</td>\n",
       "      <td>2017-01-12 08:01:45.159739</td>\n",
       "      <td>control</td>\n",
       "      <td>old_page</td>\n",
       "      <td>0</td>\n",
       "    </tr>\n",
       "    <tr>\n",
       "      <th>2</th>\n",
       "      <td>661590</td>\n",
       "      <td>2017-01-11 16:55:06.154213</td>\n",
       "      <td>treatment</td>\n",
       "      <td>new_page</td>\n",
       "      <td>0</td>\n",
       "    </tr>\n",
       "    <tr>\n",
       "      <th>3</th>\n",
       "      <td>853541</td>\n",
       "      <td>2017-01-08 18:28:03.143765</td>\n",
       "      <td>treatment</td>\n",
       "      <td>new_page</td>\n",
       "      <td>0</td>\n",
       "    </tr>\n",
       "    <tr>\n",
       "      <th>4</th>\n",
       "      <td>864975</td>\n",
       "      <td>2017-01-21 01:52:26.210827</td>\n",
       "      <td>control</td>\n",
       "      <td>old_page</td>\n",
       "      <td>1</td>\n",
       "    </tr>\n",
       "  </tbody>\n",
       "</table>\n",
       "</div>"
      ],
      "text/plain": [
       "   user_id                   timestamp      group landing_page  converted\n",
       "0   851104  2017-01-21 22:11:48.556739    control     old_page          0\n",
       "1   804228  2017-01-12 08:01:45.159739    control     old_page          0\n",
       "2   661590  2017-01-11 16:55:06.154213  treatment     new_page          0\n",
       "3   853541  2017-01-08 18:28:03.143765  treatment     new_page          0\n",
       "4   864975  2017-01-21 01:52:26.210827    control     old_page          1"
      ]
     },
     "execution_count": 2,
     "metadata": {},
     "output_type": "execute_result"
    }
   ],
   "source": [
    "df = pd.read_csv('ab_data.csv')\n",
    "df.head()"
   ]
  },
  {
   "cell_type": "code",
   "execution_count": 3,
   "metadata": {},
   "outputs": [
    {
     "name": "stdout",
     "output_type": "stream",
     "text": [
      "<class 'pandas.core.frame.DataFrame'>\n",
      "RangeIndex: 294478 entries, 0 to 294477\n",
      "Data columns (total 5 columns):\n",
      "user_id         294478 non-null int64\n",
      "timestamp       294478 non-null object\n",
      "group           294478 non-null object\n",
      "landing_page    294478 non-null object\n",
      "converted       294478 non-null int64\n",
      "dtypes: int64(2), object(3)\n",
      "memory usage: 11.2+ MB\n"
     ]
    }
   ],
   "source": [
    "df.info()"
   ]
  },
  {
   "cell_type": "markdown",
   "metadata": {},
   "source": [
    "b. Use the cell below to find the number of rows in the dataset."
   ]
  },
  {
   "cell_type": "code",
   "execution_count": 4,
   "metadata": {},
   "outputs": [
    {
     "data": {
      "text/plain": [
       "(294478, 5)"
      ]
     },
     "execution_count": 4,
     "metadata": {},
     "output_type": "execute_result"
    }
   ],
   "source": [
    "df.shape"
   ]
  },
  {
   "cell_type": "markdown",
   "metadata": {},
   "source": [
    "c. The number of unique users in the dataset."
   ]
  },
  {
   "cell_type": "code",
   "execution_count": 5,
   "metadata": {
    "scrolled": true
   },
   "outputs": [
    {
     "data": {
      "text/plain": [
       "290584"
      ]
     },
     "execution_count": 5,
     "metadata": {},
     "output_type": "execute_result"
    }
   ],
   "source": [
    "df.user_id.nunique()"
   ]
  },
  {
   "cell_type": "markdown",
   "metadata": {
    "collapsed": true
   },
   "source": [
    "d. The proportion of users converted."
   ]
  },
  {
   "cell_type": "code",
   "execution_count": 6,
   "metadata": {},
   "outputs": [
    {
     "data": {
      "text/plain": [
       "0.12104245244060237"
      ]
     },
     "execution_count": 6,
     "metadata": {},
     "output_type": "execute_result"
    }
   ],
   "source": [
    "#compute the converted propotion\n",
    "df.query('converted == 1').user_id.nunique() / df.user_id.nunique()"
   ]
  },
  {
   "cell_type": "code",
   "execution_count": 7,
   "metadata": {},
   "outputs": [
    {
     "data": {
      "text/plain": [
       "0.8819308702475016"
      ]
     },
     "execution_count": 7,
     "metadata": {},
     "output_type": "execute_result"
    }
   ],
   "source": [
    "#compute the non converted propotion\n",
    "df.query('converted == 0').user_id.nunique() / df.user_id.nunique()"
   ]
  },
  {
   "cell_type": "markdown",
   "metadata": {
    "collapsed": true
   },
   "source": [
    "e. The number of times the `new_page` and `treatment` don't match."
   ]
  },
  {
   "cell_type": "code",
   "execution_count": 8,
   "metadata": {
    "scrolled": true
   },
   "outputs": [
    {
     "data": {
      "text/plain": [
       "3893"
      ]
     },
     "execution_count": 8,
     "metadata": {},
     "output_type": "execute_result"
    }
   ],
   "source": [
    "df[((df['group'] == 'treatment')==(df['landing_page'] == 'new_page')) == False].shape[0]"
   ]
  },
  {
   "cell_type": "markdown",
   "metadata": {},
   "source": [
    "f. Do any of the rows have missing values?"
   ]
  },
  {
   "cell_type": "markdown",
   "metadata": {
    "collapsed": true
   },
   "source": [
    ">NO"
   ]
  },
  {
   "cell_type": "markdown",
   "metadata": {},
   "source": [
    "`2.` For the rows where **treatment** does not match with **new_page** or **control** does not match with **old_page**, we cannot be sure if this row truly received the new or old page.  Use **Quiz 2** in the classroom to figure out how we should handle these rows.  \n",
    "\n",
    "a. Now use the answer to the quiz to create a new dataset that meets the specifications from the quiz.  Store your new dataframe in **df2**."
   ]
  },
  {
   "cell_type": "code",
   "execution_count": 9,
   "metadata": {
    "scrolled": true
   },
   "outputs": [],
   "source": [
    "df2=df[((df['group'] == 'treatment')!=(df['landing_page'] == 'new_page')) == False]"
   ]
  },
  {
   "cell_type": "code",
   "execution_count": 10,
   "metadata": {},
   "outputs": [
    {
     "data": {
      "text/plain": [
       "0"
      ]
     },
     "execution_count": 10,
     "metadata": {},
     "output_type": "execute_result"
    }
   ],
   "source": [
    "# Double Check all of the correct rows were removed - this should be 0\n",
    "df2[((df2['group'] == 'treatment') == (df2['landing_page'] == 'new_page')) == False].shape[0]"
   ]
  },
  {
   "cell_type": "markdown",
   "metadata": {},
   "source": [
    "`3.` Use **df2** and the cells below to answer questions for **Quiz3** in the classroom."
   ]
  },
  {
   "cell_type": "markdown",
   "metadata": {},
   "source": [
    "a. How many unique **user_id**s are in **df2**?"
   ]
  },
  {
   "cell_type": "code",
   "execution_count": 11,
   "metadata": {
    "scrolled": true
   },
   "outputs": [
    {
     "data": {
      "text/plain": [
       "290584"
      ]
     },
     "execution_count": 11,
     "metadata": {},
     "output_type": "execute_result"
    }
   ],
   "source": [
    "df2.user_id.nunique()"
   ]
  },
  {
   "cell_type": "markdown",
   "metadata": {
    "collapsed": true
   },
   "source": [
    "b. There is one **user_id** repeated in **df2**.  What is it?"
   ]
  },
  {
   "cell_type": "code",
   "execution_count": 12,
   "metadata": {},
   "outputs": [
    {
     "data": {
      "text/html": [
       "<div>\n",
       "<style scoped>\n",
       "    .dataframe tbody tr th:only-of-type {\n",
       "        vertical-align: middle;\n",
       "    }\n",
       "\n",
       "    .dataframe tbody tr th {\n",
       "        vertical-align: top;\n",
       "    }\n",
       "\n",
       "    .dataframe thead th {\n",
       "        text-align: right;\n",
       "    }\n",
       "</style>\n",
       "<table border=\"1\" class=\"dataframe\">\n",
       "  <thead>\n",
       "    <tr style=\"text-align: right;\">\n",
       "      <th></th>\n",
       "      <th>user_id</th>\n",
       "      <th>timestamp</th>\n",
       "      <th>group</th>\n",
       "      <th>landing_page</th>\n",
       "      <th>converted</th>\n",
       "    </tr>\n",
       "  </thead>\n",
       "  <tbody>\n",
       "    <tr>\n",
       "      <th>2893</th>\n",
       "      <td>773192</td>\n",
       "      <td>2017-01-14 02:55:59.590927</td>\n",
       "      <td>treatment</td>\n",
       "      <td>new_page</td>\n",
       "      <td>0</td>\n",
       "    </tr>\n",
       "  </tbody>\n",
       "</table>\n",
       "</div>"
      ],
      "text/plain": [
       "      user_id                   timestamp      group landing_page  converted\n",
       "2893   773192  2017-01-14 02:55:59.590927  treatment     new_page          0"
      ]
     },
     "execution_count": 12,
     "metadata": {},
     "output_type": "execute_result"
    }
   ],
   "source": [
    "df2[df2['user_id'].duplicated()]"
   ]
  },
  {
   "cell_type": "markdown",
   "metadata": {},
   "source": [
    "c. What is the row information for the repeat **user_id**? "
   ]
  },
  {
   "cell_type": "code",
   "execution_count": 13,
   "metadata": {},
   "outputs": [
    {
     "data": {
      "text/html": [
       "<div>\n",
       "<style scoped>\n",
       "    .dataframe tbody tr th:only-of-type {\n",
       "        vertical-align: middle;\n",
       "    }\n",
       "\n",
       "    .dataframe tbody tr th {\n",
       "        vertical-align: top;\n",
       "    }\n",
       "\n",
       "    .dataframe thead th {\n",
       "        text-align: right;\n",
       "    }\n",
       "</style>\n",
       "<table border=\"1\" class=\"dataframe\">\n",
       "  <thead>\n",
       "    <tr style=\"text-align: right;\">\n",
       "      <th></th>\n",
       "      <th>user_id</th>\n",
       "      <th>timestamp</th>\n",
       "      <th>group</th>\n",
       "      <th>landing_page</th>\n",
       "      <th>converted</th>\n",
       "    </tr>\n",
       "  </thead>\n",
       "  <tbody>\n",
       "    <tr>\n",
       "      <th>2893</th>\n",
       "      <td>773192</td>\n",
       "      <td>2017-01-14 02:55:59.590927</td>\n",
       "      <td>treatment</td>\n",
       "      <td>new_page</td>\n",
       "      <td>0</td>\n",
       "    </tr>\n",
       "  </tbody>\n",
       "</table>\n",
       "</div>"
      ],
      "text/plain": [
       "      user_id                   timestamp      group landing_page  converted\n",
       "2893   773192  2017-01-14 02:55:59.590927  treatment     new_page          0"
      ]
     },
     "execution_count": 13,
     "metadata": {},
     "output_type": "execute_result"
    }
   ],
   "source": [
    "df2[df2['user_id'].duplicated()]"
   ]
  },
  {
   "cell_type": "markdown",
   "metadata": {},
   "source": [
    "d. Remove **one** of the rows with a duplicate **user_id**, but keep your dataframe as **df2**."
   ]
  },
  {
   "cell_type": "code",
   "execution_count": 14,
   "metadata": {},
   "outputs": [
    {
     "name": "stderr",
     "output_type": "stream",
     "text": [
      "/opt/conda/lib/python3.6/site-packages/ipykernel_launcher.py:1: SettingWithCopyWarning: \n",
      "A value is trying to be set on a copy of a slice from a DataFrame\n",
      "\n",
      "See the caveats in the documentation: http://pandas.pydata.org/pandas-docs/stable/indexing.html#indexing-view-versus-copy\n",
      "  \"\"\"Entry point for launching an IPython kernel.\n"
     ]
    }
   ],
   "source": [
    "df2.drop_duplicates(subset=\"user_id\",inplace=True)"
   ]
  },
  {
   "cell_type": "code",
   "execution_count": 15,
   "metadata": {},
   "outputs": [
    {
     "name": "stdout",
     "output_type": "stream",
     "text": [
      "<class 'pandas.core.frame.DataFrame'>\n",
      "Int64Index: 290584 entries, 0 to 294477\n",
      "Data columns (total 5 columns):\n",
      "user_id         290584 non-null int64\n",
      "timestamp       290584 non-null object\n",
      "group           290584 non-null object\n",
      "landing_page    290584 non-null object\n",
      "converted       290584 non-null int64\n",
      "dtypes: int64(2), object(3)\n",
      "memory usage: 13.3+ MB\n"
     ]
    }
   ],
   "source": [
    "df2.info()"
   ]
  },
  {
   "cell_type": "markdown",
   "metadata": {},
   "source": [
    "`4.` Use **df2** in the cells below to answer the quiz questions related to **Quiz 4** in the classroom.\n",
    "\n",
    "a. What is the probability of an individual converting regardless of the page they receive?"
   ]
  },
  {
   "cell_type": "code",
   "execution_count": 16,
   "metadata": {},
   "outputs": [
    {
     "data": {
      "text/plain": [
       "0.11959708724499628"
      ]
     },
     "execution_count": 16,
     "metadata": {},
     "output_type": "execute_result"
    }
   ],
   "source": [
    "df2.query('converted == 1').user_id.nunique() / df2.user_id.nunique()"
   ]
  },
  {
   "cell_type": "markdown",
   "metadata": {},
   "source": [
    "b. Given that an individual was in the `control` group, what is the probability they converted?"
   ]
  },
  {
   "cell_type": "code",
   "execution_count": 17,
   "metadata": {},
   "outputs": [
    {
     "data": {
      "text/plain": [
       "0.1203863045004612"
      ]
     },
     "execution_count": 17,
     "metadata": {},
     "output_type": "execute_result"
    }
   ],
   "source": [
    "# Create dataframe with all control records\n",
    "control_df = df2.query('group == \"control\"')\n",
    "\n",
    "# Compute the probability they converted\n",
    "control_P = control_df.query('converted == 1').user_id.nunique() / control_df.user_id.nunique()\n",
    "\n",
    "# Display the probability they converted\n",
    "control_P"
   ]
  },
  {
   "cell_type": "markdown",
   "metadata": {},
   "source": [
    "c. Given that an individual was in the `treatment` group, what is the probability they converted?"
   ]
  },
  {
   "cell_type": "code",
   "execution_count": 18,
   "metadata": {},
   "outputs": [
    {
     "data": {
      "text/plain": [
       "0.11880806551510564"
      ]
     },
     "execution_count": 18,
     "metadata": {},
     "output_type": "execute_result"
    }
   ],
   "source": [
    "# Create dataframe with all treatment records\n",
    "treatment_df = df2.query('group == \"treatment\"')\n",
    "\n",
    "# Compute the probability they converted\n",
    "treatment_P = treatment_df.query('converted == 1').user_id.nunique() / treatment_df.user_id.nunique()\n",
    "\n",
    "# Display the probability they converted\n",
    "treatment_P"
   ]
  },
  {
   "cell_type": "markdown",
   "metadata": {},
   "source": [
    "d. What is the probability that an individual received the new page?"
   ]
  },
  {
   "cell_type": "code",
   "execution_count": 19,
   "metadata": {},
   "outputs": [
    {
     "data": {
      "text/plain": [
       "0.5000619442226688"
      ]
     },
     "execution_count": 19,
     "metadata": {},
     "output_type": "execute_result"
    }
   ],
   "source": [
    "# Compute the probability  that an individual received the new page\n",
    "df2.query('landing_page == \"new_page\"').user_id.nunique() / df2.user_id.nunique()"
   ]
  },
  {
   "cell_type": "markdown",
   "metadata": {},
   "source": [
    "e. Consider your results from parts (a) through (d) above, and explain below whether you think there is sufficient evidence to conclude that the new treatment page leads to more conversions."
   ]
  },
  {
   "cell_type": "markdown",
   "metadata": {},
   "source": [
    "**based on the previous results, there is no sufficient evidence to conclude that the new treatment page leads to more conversions as the probability of conversion for the treatment group is lower than the control group.**"
   ]
  },
  {
   "cell_type": "markdown",
   "metadata": {},
   "source": [
    "<a id='ab_test'></a>\n",
    "### Part II - A/B Test\n",
    "\n",
    "Notice that because of the time stamp associated with each event, you could technically run a hypothesis test continuously as each observation was observed.  \n",
    "\n",
    "However, then the hard question is do you stop as soon as one page is considered significantly better than another or does it need to happen consistently for a certain amount of time?  How long do you run to render a decision that neither page is better than another?  \n",
    "\n",
    "These questions are the difficult parts associated with A/B tests in general.  \n",
    "\n",
    "\n",
    "`1.` For now, consider you need to make the decision just based on all the data provided.  If you want to assume that the old page is better unless the new page proves to be definitely better at a Type I error rate of 5%, what should your null and alternative hypotheses be?  You can state your hypothesis in terms of words or in terms of **$p_{old}$** and **$p_{new}$**, which are the converted rates for the old and new pages."
   ]
  },
  {
   "cell_type": "markdown",
   "metadata": {},
   "source": [
    "**$H_{o}$** : **$p_{old}$** >= **$p_{new}$**\n",
    "\n",
    "**$H_{1}$** :**$p_{old}$**  < **$p_{new}$**"
   ]
  },
  {
   "cell_type": "markdown",
   "metadata": {},
   "source": [
    "`2.` Assume under the null hypothesis, $p_{new}$ and $p_{old}$ both have \"true\" success rates equal to the **converted** success rate regardless of page - that is $p_{new}$ and $p_{old}$ are equal. Furthermore, assume they are equal to the **converted** rate in **ab_data.csv** regardless of the page. <br><br>\n",
    "\n",
    "Use a sample size for each page equal to the ones in **ab_data.csv**.  <br><br>\n",
    "\n",
    "Perform the sampling distribution for the difference in **converted** between the two pages over 10,000 iterations of calculating an estimate from the null.  <br><br>\n",
    "\n",
    "Use the cells below to provide the necessary parts of this simulation.  If this doesn't make complete sense right now, don't worry - you are going to work through the problems below to complete this problem.  You can use **Quiz 5** in the classroom to make sure you are on the right track.<br><br>"
   ]
  },
  {
   "cell_type": "markdown",
   "metadata": {},
   "source": [
    "a. What is the **conversion rate** for $p_{new}$ under the null? "
   ]
  },
  {
   "cell_type": "code",
   "execution_count": 20,
   "metadata": {},
   "outputs": [
    {
     "data": {
      "text/html": [
       "<div>\n",
       "<style scoped>\n",
       "    .dataframe tbody tr th:only-of-type {\n",
       "        vertical-align: middle;\n",
       "    }\n",
       "\n",
       "    .dataframe tbody tr th {\n",
       "        vertical-align: top;\n",
       "    }\n",
       "\n",
       "    .dataframe thead th {\n",
       "        text-align: right;\n",
       "    }\n",
       "</style>\n",
       "<table border=\"1\" class=\"dataframe\">\n",
       "  <thead>\n",
       "    <tr style=\"text-align: right;\">\n",
       "      <th></th>\n",
       "      <th>user_id</th>\n",
       "      <th>timestamp</th>\n",
       "      <th>group</th>\n",
       "      <th>landing_page</th>\n",
       "      <th>converted</th>\n",
       "    </tr>\n",
       "  </thead>\n",
       "  <tbody>\n",
       "    <tr>\n",
       "      <th>0</th>\n",
       "      <td>851104</td>\n",
       "      <td>2017-01-21 22:11:48.556739</td>\n",
       "      <td>control</td>\n",
       "      <td>old_page</td>\n",
       "      <td>0</td>\n",
       "    </tr>\n",
       "    <tr>\n",
       "      <th>1</th>\n",
       "      <td>804228</td>\n",
       "      <td>2017-01-12 08:01:45.159739</td>\n",
       "      <td>control</td>\n",
       "      <td>old_page</td>\n",
       "      <td>0</td>\n",
       "    </tr>\n",
       "    <tr>\n",
       "      <th>2</th>\n",
       "      <td>661590</td>\n",
       "      <td>2017-01-11 16:55:06.154213</td>\n",
       "      <td>treatment</td>\n",
       "      <td>new_page</td>\n",
       "      <td>0</td>\n",
       "    </tr>\n",
       "    <tr>\n",
       "      <th>3</th>\n",
       "      <td>853541</td>\n",
       "      <td>2017-01-08 18:28:03.143765</td>\n",
       "      <td>treatment</td>\n",
       "      <td>new_page</td>\n",
       "      <td>0</td>\n",
       "    </tr>\n",
       "    <tr>\n",
       "      <th>4</th>\n",
       "      <td>864975</td>\n",
       "      <td>2017-01-21 01:52:26.210827</td>\n",
       "      <td>control</td>\n",
       "      <td>old_page</td>\n",
       "      <td>1</td>\n",
       "    </tr>\n",
       "  </tbody>\n",
       "</table>\n",
       "</div>"
      ],
      "text/plain": [
       "   user_id                   timestamp      group landing_page  converted\n",
       "0   851104  2017-01-21 22:11:48.556739    control     old_page          0\n",
       "1   804228  2017-01-12 08:01:45.159739    control     old_page          0\n",
       "2   661590  2017-01-11 16:55:06.154213  treatment     new_page          0\n",
       "3   853541  2017-01-08 18:28:03.143765  treatment     new_page          0\n",
       "4   864975  2017-01-21 01:52:26.210827    control     old_page          1"
      ]
     },
     "execution_count": 20,
     "metadata": {},
     "output_type": "execute_result"
    }
   ],
   "source": [
    "ab_df= pd.read_csv('ab_data.csv')\n",
    "ab_df.head()"
   ]
  },
  {
   "cell_type": "code",
   "execution_count": 21,
   "metadata": {},
   "outputs": [
    {
     "data": {
      "text/plain": [
       "0.11965919355605512"
      ]
     },
     "execution_count": 21,
     "metadata": {},
     "output_type": "execute_result"
    }
   ],
   "source": [
    "# as per mentioned above ' regardless of page', then p_new will\n",
    "p_new= ab_df.converted.mean()\n",
    "p_new"
   ]
  },
  {
   "cell_type": "markdown",
   "metadata": {},
   "source": [
    "b. What is the **conversion rate** for $p_{old}$ under the null? <br><br>"
   ]
  },
  {
   "cell_type": "code",
   "execution_count": 22,
   "metadata": {},
   "outputs": [
    {
     "data": {
      "text/plain": [
       "0.11965919355605512"
      ]
     },
     "execution_count": 22,
     "metadata": {},
     "output_type": "execute_result"
    }
   ],
   "source": [
    "# as per mentioned above ' regardless of page', then p_old as p_new\n",
    "p_old= ab_df.converted.mean()\n",
    "p_old"
   ]
  },
  {
   "cell_type": "markdown",
   "metadata": {},
   "source": [
    "c. What is $n_{new}$, the number of individuals in the treatment group?"
   ]
  },
  {
   "cell_type": "code",
   "execution_count": 23,
   "metadata": {
    "scrolled": true
   },
   "outputs": [
    {
     "data": {
      "text/plain": [
       "145310"
      ]
     },
     "execution_count": 23,
     "metadata": {},
     "output_type": "execute_result"
    }
   ],
   "source": [
    "new_n = df2.query('group==\"treatment\"')['user_id'].shape[0]\n",
    "new_n"
   ]
  },
  {
   "cell_type": "markdown",
   "metadata": {},
   "source": [
    "d. What is $n_{old}$, the number of individuals in the control group?"
   ]
  },
  {
   "cell_type": "code",
   "execution_count": 24,
   "metadata": {},
   "outputs": [
    {
     "data": {
      "text/plain": [
       "145274"
      ]
     },
     "execution_count": 24,
     "metadata": {},
     "output_type": "execute_result"
    }
   ],
   "source": [
    "old_n = df2.query('group==\"control\"')['user_id'].shape[0]\n",
    "old_n"
   ]
  },
  {
   "cell_type": "markdown",
   "metadata": {},
   "source": [
    "e. Simulate $n_{new}$ transactions with a conversion rate of $p_{new}$ under the null.  Store these $n_{new}$ 1's and 0's in **new_page_converted**."
   ]
  },
  {
   "cell_type": "code",
   "execution_count": 25,
   "metadata": {},
   "outputs": [
    {
     "data": {
      "text/plain": [
       "0.11997109627692519"
      ]
     },
     "execution_count": 25,
     "metadata": {},
     "output_type": "execute_result"
    }
   ],
   "source": [
    "#new_page_converted = np.random.choice([0, 1], size=new_n, p=[(1 - p_new), p_new])\n",
    "new_page_converted = np.random.binomial(new_n, p_new)/new_n\n",
    "new_page_converted"
   ]
  },
  {
   "cell_type": "markdown",
   "metadata": {},
   "source": [
    "f. Simulate $n_{old}$ transactions with a conversion rate of $p_{old}$ under the null.  Store these $n_{old}$ 1's and 0's in **old_page_converted**."
   ]
  },
  {
   "cell_type": "code",
   "execution_count": 26,
   "metadata": {},
   "outputs": [
    {
     "data": {
      "text/plain": [
       "0.11777744124895026"
      ]
     },
     "execution_count": 26,
     "metadata": {},
     "output_type": "execute_result"
    }
   ],
   "source": [
    "#old_page_converted = np.random.choice([0, 1], size=old_n, p=[(1 - p_old), p_old])\n",
    "old_page_converted = np.random.binomial(old_n, p_old)/old_n \n",
    "old_page_converted"
   ]
  },
  {
   "cell_type": "markdown",
   "metadata": {},
   "source": [
    "g. Find $p_{new}$ - $p_{old}$ for your simulated values from part (e) and (f)."
   ]
  },
  {
   "cell_type": "code",
   "execution_count": 27,
   "metadata": {},
   "outputs": [
    {
     "data": {
      "text/plain": [
       "0.0021936550279749306"
      ]
     },
     "execution_count": 27,
     "metadata": {},
     "output_type": "execute_result"
    }
   ],
   "source": [
    "obs_diff = new_page_converted - old_page_converted\n",
    "obs_diff"
   ]
  },
  {
   "cell_type": "markdown",
   "metadata": {},
   "source": [
    "h. Create 10,000 $p_{new}$ - $p_{old}$ values using the same simulation process you used in parts (a) through (g) above. Store all 10,000 values in a NumPy array called **p_diffs**."
   ]
  },
  {
   "cell_type": "code",
   "execution_count": 28,
   "metadata": {},
   "outputs": [],
   "source": [
    "new_page_converted = np.random.binomial(new_n, p_new, 10000)/new_n\n",
    "old_page_converted = np.random.binomial(old_n, p_old, 10000)/old_n \n",
    "p_diffs = new_page_converted - old_page_converted  "
   ]
  },
  {
   "cell_type": "markdown",
   "metadata": {},
   "source": [
    "i. Plot a histogram of the **p_diffs**.  Does this plot look like what you expected?  Use the matching problem in the classroom to assure you fully understand what was computed here."
   ]
  },
  {
   "cell_type": "code",
   "execution_count": 29,
   "metadata": {},
   "outputs": [],
   "source": [
    "# convert to numpy array\n",
    "p_diffs = np.array(p_diffs)"
   ]
  },
  {
   "cell_type": "code",
   "execution_count": 30,
   "metadata": {
    "scrolled": true
   },
   "outputs": [
    {
     "data": {
      "image/png": "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\n",
      "text/plain": [
       "<matplotlib.figure.Figure at 0x7f13d7e14940>"
      ]
     },
     "metadata": {
      "needs_background": "light"
     },
     "output_type": "display_data"
    }
   ],
   "source": [
    "\n",
    "# plot distribution\n",
    "plt.hist(p_diffs);\n",
    "plt.axvline(treatment_P - control_P, color='r');\n",
    "plt.title(\"The Simulation of Conversion Rates Differences under the Null Hypothesis \\n\", fontsize=14);\n"
   ]
  },
  {
   "cell_type": "markdown",
   "metadata": {},
   "source": [
    "j. What proportion of the **p_diffs** are greater than the actual difference observed in **ab_data.csv**?"
   ]
  },
  {
   "cell_type": "code",
   "execution_count": 31,
   "metadata": {},
   "outputs": [
    {
     "data": {
      "text/plain": [
       "0.90490000000000004"
      ]
     },
     "execution_count": 31,
     "metadata": {},
     "output_type": "execute_result"
    }
   ],
   "source": [
    "# Calculate the actucl difference observed in ab_data\n",
    "act_diff = treatment_P - control_P\n",
    "# Calculate the propotion of the p_diffs based on the actual difference observed in ab_data.csv\n",
    "(p_diffs > act_diff).mean()"
   ]
  },
  {
   "cell_type": "markdown",
   "metadata": {},
   "source": [
    "k. Please explain using the vocabulary you've learned in this course what you just computed in part **j.**  What is this value called in scientific studies?  What does this value mean in terms of whether or not there is a difference between the new and old pages?"
   ]
  },
  {
   "cell_type": "markdown",
   "metadata": {},
   "source": [
    "**The Null hypothesis fails to reject due to the value of the p-value is 0.904 and is greater than the typical $\\alpha$ level of 0.05 (Type one error) . Based on that the p-value and statistics above prove the correctness of Null hypothesis**"
   ]
  },
  {
   "cell_type": "markdown",
   "metadata": {},
   "source": [
    "l. We could also use a built-in to achieve similar results.  Though using the built-in might be easier to code, the above portions are a walkthrough of the ideas that are critical to correctly thinking about statistical significance. Fill in the below to calculate the number of conversions for each page, as well as the number of individuals who received each page. Let `n_old` and `n_new` refer the the number of rows associated with the old page and new pages, respectively."
   ]
  },
  {
   "cell_type": "code",
   "execution_count": 36,
   "metadata": {},
   "outputs": [],
   "source": [
    "import statsmodels.api as sm\n",
    "\n",
    "convert_old = df2.query('group == \"control\" & converted == 1')['converted'].count()\n",
    "convert_new = df2.query('group == \"treatment\" & converted == 1')['converted'].count()\n",
    "n_old = old_n\n",
    "n_new= new_n"
   ]
  },
  {
   "cell_type": "code",
   "execution_count": 37,
   "metadata": {},
   "outputs": [
    {
     "data": {
      "text/plain": [
       "(17489, 17264, 145274, 145310)"
      ]
     },
     "execution_count": 37,
     "metadata": {},
     "output_type": "execute_result"
    }
   ],
   "source": [
    "convert_old, convert_new, n_old, n_new"
   ]
  },
  {
   "cell_type": "markdown",
   "metadata": {},
   "source": [
    "m. Now use `stats.proportions_ztest` to compute your test statistic and p-value.  [Here](https://docs.w3cub.com/statsmodels/generated/statsmodels.stats.proportion.proportions_ztest/) is a helpful link on using the built in."
   ]
  },
  {
   "cell_type": "code",
   "execution_count": 38,
   "metadata": {},
   "outputs": [
    {
     "data": {
      "text/plain": [
       "(-1.3109241984234394, 0.90505831275902449)"
      ]
     },
     "execution_count": 38,
     "metadata": {},
     "output_type": "execute_result"
    }
   ],
   "source": [
    "sm.stats.proportions_ztest([convert_new, convert_old], [n_new, n_old], alternative='larger')\n"
   ]
  },
  {
   "cell_type": "markdown",
   "metadata": {},
   "source": [
    "n. What do the z-score and p-value you computed in the previous question mean for the conversion rates of the old and new pages?  Do they agree with the findings in parts **j.** and **k.**?"
   ]
  },
  {
   "cell_type": "markdown",
   "metadata": {},
   "source": [
    "**p-value is 0.905 and it is the _same_ output of simuation under the Null. The z-score prove again that the Null is fail to reject.**"
   ]
  },
  {
   "cell_type": "markdown",
   "metadata": {},
   "source": [
    "<a id='regression'></a>\n",
    "### Part III - A regression approach\n",
    "\n",
    "`1.` In this final part, you will see that the result you achieved in the A/B test in Part II above can also be achieved by performing regression.<br><br> \n",
    "\n",
    "a. Since each row is either a conversion or no conversion, what type of regression should you be performing in this case?"
   ]
  },
  {
   "cell_type": "markdown",
   "metadata": {},
   "source": [
    "**the best type will be Logistic Regression as long the data classified as 0(no conversion) or 1(conversion).**"
   ]
  },
  {
   "cell_type": "markdown",
   "metadata": {},
   "source": [
    "b. The goal is to use **statsmodels** to fit the regression model you specified in part **a.** to see if there is a significant difference in conversion based on which page a customer receives. However, you first need to create in df2 a column for the intercept, and create a dummy variable column for which page each user received.  Add an **intercept** column, as well as an **ab_page** column, which is 1 when an individual receives the **treatment** and 0 if **control**."
   ]
  },
  {
   "cell_type": "code",
   "execution_count": 39,
   "metadata": {
    "scrolled": true
   },
   "outputs": [
    {
     "data": {
      "text/html": [
       "<div>\n",
       "<style scoped>\n",
       "    .dataframe tbody tr th:only-of-type {\n",
       "        vertical-align: middle;\n",
       "    }\n",
       "\n",
       "    .dataframe tbody tr th {\n",
       "        vertical-align: top;\n",
       "    }\n",
       "\n",
       "    .dataframe thead th {\n",
       "        text-align: right;\n",
       "    }\n",
       "</style>\n",
       "<table border=\"1\" class=\"dataframe\">\n",
       "  <thead>\n",
       "    <tr style=\"text-align: right;\">\n",
       "      <th></th>\n",
       "      <th>user_id</th>\n",
       "      <th>timestamp</th>\n",
       "      <th>group</th>\n",
       "      <th>landing_page</th>\n",
       "      <th>converted</th>\n",
       "    </tr>\n",
       "  </thead>\n",
       "  <tbody>\n",
       "    <tr>\n",
       "      <th>0</th>\n",
       "      <td>851104</td>\n",
       "      <td>2017-01-21 22:11:48.556739</td>\n",
       "      <td>control</td>\n",
       "      <td>old_page</td>\n",
       "      <td>0</td>\n",
       "    </tr>\n",
       "    <tr>\n",
       "      <th>1</th>\n",
       "      <td>804228</td>\n",
       "      <td>2017-01-12 08:01:45.159739</td>\n",
       "      <td>control</td>\n",
       "      <td>old_page</td>\n",
       "      <td>0</td>\n",
       "    </tr>\n",
       "    <tr>\n",
       "      <th>2</th>\n",
       "      <td>661590</td>\n",
       "      <td>2017-01-11 16:55:06.154213</td>\n",
       "      <td>treatment</td>\n",
       "      <td>new_page</td>\n",
       "      <td>0</td>\n",
       "    </tr>\n",
       "    <tr>\n",
       "      <th>3</th>\n",
       "      <td>853541</td>\n",
       "      <td>2017-01-08 18:28:03.143765</td>\n",
       "      <td>treatment</td>\n",
       "      <td>new_page</td>\n",
       "      <td>0</td>\n",
       "    </tr>\n",
       "    <tr>\n",
       "      <th>4</th>\n",
       "      <td>864975</td>\n",
       "      <td>2017-01-21 01:52:26.210827</td>\n",
       "      <td>control</td>\n",
       "      <td>old_page</td>\n",
       "      <td>1</td>\n",
       "    </tr>\n",
       "  </tbody>\n",
       "</table>\n",
       "</div>"
      ],
      "text/plain": [
       "   user_id                   timestamp      group landing_page  converted\n",
       "0   851104  2017-01-21 22:11:48.556739    control     old_page          0\n",
       "1   804228  2017-01-12 08:01:45.159739    control     old_page          0\n",
       "2   661590  2017-01-11 16:55:06.154213  treatment     new_page          0\n",
       "3   853541  2017-01-08 18:28:03.143765  treatment     new_page          0\n",
       "4   864975  2017-01-21 01:52:26.210827    control     old_page          1"
      ]
     },
     "execution_count": 39,
     "metadata": {},
     "output_type": "execute_result"
    }
   ],
   "source": [
    "df2.head()"
   ]
  },
  {
   "cell_type": "code",
   "execution_count": 40,
   "metadata": {
    "scrolled": true
   },
   "outputs": [
    {
     "name": "stderr",
     "output_type": "stream",
     "text": [
      "/opt/conda/lib/python3.6/site-packages/pandas/core/frame.py:3140: SettingWithCopyWarning: \n",
      "A value is trying to be set on a copy of a slice from a DataFrame.\n",
      "Try using .loc[row_indexer,col_indexer] = value instead\n",
      "\n",
      "See the caveats in the documentation: http://pandas.pydata.org/pandas-docs/stable/indexing.html#indexing-view-versus-copy\n",
      "  self[k1] = value[k2]\n"
     ]
    },
    {
     "data": {
      "text/html": [
       "<div>\n",
       "<style scoped>\n",
       "    .dataframe tbody tr th:only-of-type {\n",
       "        vertical-align: middle;\n",
       "    }\n",
       "\n",
       "    .dataframe tbody tr th {\n",
       "        vertical-align: top;\n",
       "    }\n",
       "\n",
       "    .dataframe thead th {\n",
       "        text-align: right;\n",
       "    }\n",
       "</style>\n",
       "<table border=\"1\" class=\"dataframe\">\n",
       "  <thead>\n",
       "    <tr style=\"text-align: right;\">\n",
       "      <th></th>\n",
       "      <th>user_id</th>\n",
       "      <th>timestamp</th>\n",
       "      <th>group</th>\n",
       "      <th>landing_page</th>\n",
       "      <th>converted</th>\n",
       "      <th>control</th>\n",
       "      <th>treatment</th>\n",
       "      <th>old_page</th>\n",
       "      <th>ab_page</th>\n",
       "    </tr>\n",
       "  </thead>\n",
       "  <tbody>\n",
       "    <tr>\n",
       "      <th>0</th>\n",
       "      <td>851104</td>\n",
       "      <td>2017-01-21 22:11:48.556739</td>\n",
       "      <td>control</td>\n",
       "      <td>old_page</td>\n",
       "      <td>0</td>\n",
       "      <td>1</td>\n",
       "      <td>0</td>\n",
       "      <td>0</td>\n",
       "      <td>1</td>\n",
       "    </tr>\n",
       "    <tr>\n",
       "      <th>1</th>\n",
       "      <td>804228</td>\n",
       "      <td>2017-01-12 08:01:45.159739</td>\n",
       "      <td>control</td>\n",
       "      <td>old_page</td>\n",
       "      <td>0</td>\n",
       "      <td>1</td>\n",
       "      <td>0</td>\n",
       "      <td>0</td>\n",
       "      <td>1</td>\n",
       "    </tr>\n",
       "  </tbody>\n",
       "</table>\n",
       "</div>"
      ],
      "text/plain": [
       "   user_id                   timestamp    group landing_page  converted  \\\n",
       "0   851104  2017-01-21 22:11:48.556739  control     old_page          0   \n",
       "1   804228  2017-01-12 08:01:45.159739  control     old_page          0   \n",
       "\n",
       "   control  treatment  old_page  ab_page  \n",
       "0        1          0         0        1  \n",
       "1        1          0         0        1  "
      ]
     },
     "execution_count": 40,
     "metadata": {},
     "output_type": "execute_result"
    }
   ],
   "source": [
    "# create the dummy variable for columns group and landing_page\n",
    "df2[['control','treatment']]= pd.get_dummies(df2['group'])\n",
    "df2[['old_page','ab_page']]= pd.get_dummies(df2['landing_page'])\n",
    "df2.head(2)"
   ]
  },
  {
   "cell_type": "code",
   "execution_count": 43,
   "metadata": {
    "scrolled": true
   },
   "outputs": [
    {
     "data": {
      "text/html": [
       "<div>\n",
       "<style scoped>\n",
       "    .dataframe tbody tr th:only-of-type {\n",
       "        vertical-align: middle;\n",
       "    }\n",
       "\n",
       "    .dataframe tbody tr th {\n",
       "        vertical-align: top;\n",
       "    }\n",
       "\n",
       "    .dataframe thead th {\n",
       "        text-align: right;\n",
       "    }\n",
       "</style>\n",
       "<table border=\"1\" class=\"dataframe\">\n",
       "  <thead>\n",
       "    <tr style=\"text-align: right;\">\n",
       "      <th></th>\n",
       "      <th>user_id</th>\n",
       "      <th>timestamp</th>\n",
       "      <th>converted</th>\n",
       "      <th>control</th>\n",
       "      <th>treatment</th>\n",
       "      <th>old_page</th>\n",
       "      <th>ab_page</th>\n",
       "      <th>intercept</th>\n",
       "    </tr>\n",
       "  </thead>\n",
       "  <tbody>\n",
       "    <tr>\n",
       "      <th>0</th>\n",
       "      <td>851104</td>\n",
       "      <td>2017-01-21 22:11:48.556739</td>\n",
       "      <td>0</td>\n",
       "      <td>1</td>\n",
       "      <td>0</td>\n",
       "      <td>0</td>\n",
       "      <td>1</td>\n",
       "      <td>1</td>\n",
       "    </tr>\n",
       "    <tr>\n",
       "      <th>1</th>\n",
       "      <td>804228</td>\n",
       "      <td>2017-01-12 08:01:45.159739</td>\n",
       "      <td>0</td>\n",
       "      <td>1</td>\n",
       "      <td>0</td>\n",
       "      <td>0</td>\n",
       "      <td>1</td>\n",
       "      <td>1</td>\n",
       "    </tr>\n",
       "    <tr>\n",
       "      <th>2</th>\n",
       "      <td>661590</td>\n",
       "      <td>2017-01-11 16:55:06.154213</td>\n",
       "      <td>0</td>\n",
       "      <td>0</td>\n",
       "      <td>1</td>\n",
       "      <td>1</td>\n",
       "      <td>0</td>\n",
       "      <td>1</td>\n",
       "    </tr>\n",
       "    <tr>\n",
       "      <th>3</th>\n",
       "      <td>853541</td>\n",
       "      <td>2017-01-08 18:28:03.143765</td>\n",
       "      <td>0</td>\n",
       "      <td>0</td>\n",
       "      <td>1</td>\n",
       "      <td>1</td>\n",
       "      <td>0</td>\n",
       "      <td>1</td>\n",
       "    </tr>\n",
       "    <tr>\n",
       "      <th>4</th>\n",
       "      <td>864975</td>\n",
       "      <td>2017-01-21 01:52:26.210827</td>\n",
       "      <td>1</td>\n",
       "      <td>1</td>\n",
       "      <td>0</td>\n",
       "      <td>0</td>\n",
       "      <td>1</td>\n",
       "      <td>1</td>\n",
       "    </tr>\n",
       "  </tbody>\n",
       "</table>\n",
       "</div>"
      ],
      "text/plain": [
       "   user_id                   timestamp  converted  control  treatment  \\\n",
       "0   851104  2017-01-21 22:11:48.556739          0        1          0   \n",
       "1   804228  2017-01-12 08:01:45.159739          0        1          0   \n",
       "2   661590  2017-01-11 16:55:06.154213          0        0          1   \n",
       "3   853541  2017-01-08 18:28:03.143765          0        0          1   \n",
       "4   864975  2017-01-21 01:52:26.210827          1        1          0   \n",
       "\n",
       "   old_page  ab_page  intercept  \n",
       "0         0        1          1  \n",
       "1         0        1          1  \n",
       "2         1        0          1  \n",
       "3         1        0          1  \n",
       "4         0        1          1  "
      ]
     },
     "execution_count": 43,
     "metadata": {},
     "output_type": "execute_result"
    }
   ],
   "source": [
    "#drop the landing_page and group columns and save that in new df\n",
    "df3= df2.drop(['landing_page','group'], axis=1 )\n",
    "#create the intercept\n",
    "df3['intercept']=1\n",
    "df3.head()"
   ]
  },
  {
   "cell_type": "markdown",
   "metadata": {},
   "source": [
    "c. Use **statsmodels** to instantiate your regression model on the two columns you created in part b., then fit the model using the two columns you created in part **b.** to predict whether or not an individual converts. "
   ]
  },
  {
   "cell_type": "code",
   "execution_count": 44,
   "metadata": {},
   "outputs": [
    {
     "name": "stdout",
     "output_type": "stream",
     "text": [
      "Optimization terminated successfully.\n",
      "         Current function value: 0.366118\n",
      "         Iterations 6\n"
     ]
    }
   ],
   "source": [
    "log_mod = sm.Logit(df3['converted'],df3[['intercept','ab_page']])\n",
    "result = log_mod.fit()"
   ]
  },
  {
   "cell_type": "markdown",
   "metadata": {},
   "source": [
    "d. Provide the summary of your model below, and use it as necessary to answer the following questions."
   ]
  },
  {
   "cell_type": "code",
   "execution_count": 45,
   "metadata": {
    "scrolled": true
   },
   "outputs": [
    {
     "data": {
      "text/html": [
       "<table class=\"simpletable\">\n",
       "<caption>Logit Regression Results</caption>\n",
       "<tr>\n",
       "  <th>Dep. Variable:</th>     <td>converted</td>    <th>  No. Observations:  </th>   <td>290584</td>   \n",
       "</tr>\n",
       "<tr>\n",
       "  <th>Model:</th>               <td>Logit</td>      <th>  Df Residuals:      </th>   <td>290582</td>   \n",
       "</tr>\n",
       "<tr>\n",
       "  <th>Method:</th>               <td>MLE</td>       <th>  Df Model:          </th>   <td>     1</td>   \n",
       "</tr>\n",
       "<tr>\n",
       "  <th>Date:</th>          <td>Sat, 08 Aug 2020</td> <th>  Pseudo R-squ.:     </th>  <td>8.077e-06</td> \n",
       "</tr>\n",
       "<tr>\n",
       "  <th>Time:</th>              <td>01:10:40</td>     <th>  Log-Likelihood:    </th> <td>-1.0639e+05</td>\n",
       "</tr>\n",
       "<tr>\n",
       "  <th>converged:</th>           <td>True</td>       <th>  LL-Null:           </th> <td>-1.0639e+05</td>\n",
       "</tr>\n",
       "<tr>\n",
       "  <th> </th>                      <td> </td>        <th>  LLR p-value:       </th>   <td>0.1899</td>   \n",
       "</tr>\n",
       "</table>\n",
       "<table class=\"simpletable\">\n",
       "<tr>\n",
       "      <td></td>         <th>coef</th>     <th>std err</th>      <th>z</th>      <th>P>|z|</th>  <th>[0.025</th>    <th>0.975]</th>  \n",
       "</tr>\n",
       "<tr>\n",
       "  <th>intercept</th> <td>   -2.0038</td> <td>    0.008</td> <td> -247.146</td> <td> 0.000</td> <td>   -2.020</td> <td>   -1.988</td>\n",
       "</tr>\n",
       "<tr>\n",
       "  <th>ab_page</th>   <td>    0.0150</td> <td>    0.011</td> <td>    1.311</td> <td> 0.190</td> <td>   -0.007</td> <td>    0.037</td>\n",
       "</tr>\n",
       "</table>"
      ],
      "text/plain": [
       "<class 'statsmodels.iolib.summary.Summary'>\n",
       "\"\"\"\n",
       "                           Logit Regression Results                           \n",
       "==============================================================================\n",
       "Dep. Variable:              converted   No. Observations:               290584\n",
       "Model:                          Logit   Df Residuals:                   290582\n",
       "Method:                           MLE   Df Model:                            1\n",
       "Date:                Sat, 08 Aug 2020   Pseudo R-squ.:               8.077e-06\n",
       "Time:                        01:10:40   Log-Likelihood:            -1.0639e+05\n",
       "converged:                       True   LL-Null:                   -1.0639e+05\n",
       "                                        LLR p-value:                    0.1899\n",
       "==============================================================================\n",
       "                 coef    std err          z      P>|z|      [0.025      0.975]\n",
       "------------------------------------------------------------------------------\n",
       "intercept     -2.0038      0.008   -247.146      0.000      -2.020      -1.988\n",
       "ab_page        0.0150      0.011      1.311      0.190      -0.007       0.037\n",
       "==============================================================================\n",
       "\"\"\""
      ]
     },
     "execution_count": 45,
     "metadata": {},
     "output_type": "execute_result"
    }
   ],
   "source": [
    "#updated scipy\n",
    "from scipy import stats\n",
    "stats.chisqprob = lambda chisq, df: stats.chi2.sf(chisq, df)\n",
    "#the source'https://docs.scipy.org/doc/scipy/reference/generated/scipy.stats.chi2.html'\n",
    "\n",
    "result.summary()"
   ]
  },
  {
   "cell_type": "markdown",
   "metadata": {},
   "source": [
    "e. What is the p-value associated with **ab_page**? Why does it differ from the value you found in **Part II**?<br><br>  **Hint**: What are the null and alternative hypotheses associated with your regression model, and how do they compare to the null and alternative hypotheses in **Part II**?"
   ]
  },
  {
   "cell_type": "markdown",
   "metadata": {},
   "source": [
    "**The p-value is 0.19, it is different beacuse the critical area of a distribution is two-sided and tests whether a sample is greater than or less than a certain range of values. \n",
    "The p-vaalue here above an $\\alpha$ level of 0.05 so we still reject the failure of Null.**"
   ]
  },
  {
   "cell_type": "markdown",
   "metadata": {},
   "source": [
    "f. Now, you are considering other things that might influence whether or not an individual converts.  Discuss why it is a good idea to consider other factors to add into your regression model.  Are there any disadvantages to adding additional terms into your regression model?"
   ]
  },
  {
   "cell_type": "markdown",
   "metadata": {},
   "source": [
    "**Increase the number of factors might increase the accuracy of the model. On the other hand might lead to  Simpson's paradox where the combined effect of different factors disappears or ,reverses when these factors are combined but appears where these variables are tested individually.**"
   ]
  },
  {
   "cell_type": "markdown",
   "metadata": {},
   "source": [
    "g. Now along with testing if the conversion rate changes for different pages, also add an effect based on which country a user lives in. You will need to read in the **countries.csv** dataset and merge together your datasets on the appropriate rows.  [Here](https://pandas.pydata.org/pandas-docs/stable/generated/pandas.DataFrame.join.html) are the docs for joining tables. \n",
    "\n",
    "Does it appear that country had an impact on conversion?  Don't forget to create dummy variables for these country columns - **Hint: You will need two columns for the three dummy variables.** Provide the statistical output as well as a written response to answer this question."
   ]
  },
  {
   "cell_type": "code",
   "execution_count": 46,
   "metadata": {
    "scrolled": true
   },
   "outputs": [
    {
     "data": {
      "text/html": [
       "<div>\n",
       "<style scoped>\n",
       "    .dataframe tbody tr th:only-of-type {\n",
       "        vertical-align: middle;\n",
       "    }\n",
       "\n",
       "    .dataframe tbody tr th {\n",
       "        vertical-align: top;\n",
       "    }\n",
       "\n",
       "    .dataframe thead th {\n",
       "        text-align: right;\n",
       "    }\n",
       "</style>\n",
       "<table border=\"1\" class=\"dataframe\">\n",
       "  <thead>\n",
       "    <tr style=\"text-align: right;\">\n",
       "      <th></th>\n",
       "      <th>user_id</th>\n",
       "      <th>country</th>\n",
       "    </tr>\n",
       "  </thead>\n",
       "  <tbody>\n",
       "    <tr>\n",
       "      <th>0</th>\n",
       "      <td>834778</td>\n",
       "      <td>UK</td>\n",
       "    </tr>\n",
       "    <tr>\n",
       "      <th>1</th>\n",
       "      <td>928468</td>\n",
       "      <td>US</td>\n",
       "    </tr>\n",
       "    <tr>\n",
       "      <th>2</th>\n",
       "      <td>822059</td>\n",
       "      <td>UK</td>\n",
       "    </tr>\n",
       "    <tr>\n",
       "      <th>3</th>\n",
       "      <td>711597</td>\n",
       "      <td>UK</td>\n",
       "    </tr>\n",
       "    <tr>\n",
       "      <th>4</th>\n",
       "      <td>710616</td>\n",
       "      <td>UK</td>\n",
       "    </tr>\n",
       "  </tbody>\n",
       "</table>\n",
       "</div>"
      ],
      "text/plain": [
       "   user_id country\n",
       "0   834778      UK\n",
       "1   928468      US\n",
       "2   822059      UK\n",
       "3   711597      UK\n",
       "4   710616      UK"
      ]
     },
     "execution_count": 46,
     "metadata": {},
     "output_type": "execute_result"
    }
   ],
   "source": [
    "co_df= pd.read_csv('countries.csv')\n",
    "co_df.head()"
   ]
  },
  {
   "cell_type": "code",
   "execution_count": 47,
   "metadata": {
    "scrolled": true
   },
   "outputs": [
    {
     "name": "stdout",
     "output_type": "stream",
     "text": [
      "<class 'pandas.core.frame.DataFrame'>\n",
      "RangeIndex: 290584 entries, 0 to 290583\n",
      "Data columns (total 2 columns):\n",
      "user_id    290584 non-null int64\n",
      "country    290584 non-null object\n",
      "dtypes: int64(1), object(1)\n",
      "memory usage: 4.4+ MB\n"
     ]
    }
   ],
   "source": [
    "co_df.info()"
   ]
  },
  {
   "cell_type": "code",
   "execution_count": 48,
   "metadata": {},
   "outputs": [
    {
     "data": {
      "text/plain": [
       "array(['UK', 'US', 'CA'], dtype=object)"
      ]
     },
     "execution_count": 48,
     "metadata": {},
     "output_type": "execute_result"
    }
   ],
   "source": [
    "co_df['country'].unique()"
   ]
  },
  {
   "cell_type": "code",
   "execution_count": 49,
   "metadata": {},
   "outputs": [
    {
     "data": {
      "text/html": [
       "<div>\n",
       "<style scoped>\n",
       "    .dataframe tbody tr th:only-of-type {\n",
       "        vertical-align: middle;\n",
       "    }\n",
       "\n",
       "    .dataframe tbody tr th {\n",
       "        vertical-align: top;\n",
       "    }\n",
       "\n",
       "    .dataframe thead th {\n",
       "        text-align: right;\n",
       "    }\n",
       "</style>\n",
       "<table border=\"1\" class=\"dataframe\">\n",
       "  <thead>\n",
       "    <tr style=\"text-align: right;\">\n",
       "      <th></th>\n",
       "      <th>user_id</th>\n",
       "      <th>UK</th>\n",
       "      <th>US</th>\n",
       "      <th>CA</th>\n",
       "    </tr>\n",
       "  </thead>\n",
       "  <tbody>\n",
       "    <tr>\n",
       "      <th>0</th>\n",
       "      <td>834778</td>\n",
       "      <td>0</td>\n",
       "      <td>1</td>\n",
       "      <td>0</td>\n",
       "    </tr>\n",
       "    <tr>\n",
       "      <th>1</th>\n",
       "      <td>928468</td>\n",
       "      <td>0</td>\n",
       "      <td>0</td>\n",
       "      <td>1</td>\n",
       "    </tr>\n",
       "    <tr>\n",
       "      <th>2</th>\n",
       "      <td>822059</td>\n",
       "      <td>0</td>\n",
       "      <td>1</td>\n",
       "      <td>0</td>\n",
       "    </tr>\n",
       "    <tr>\n",
       "      <th>3</th>\n",
       "      <td>711597</td>\n",
       "      <td>0</td>\n",
       "      <td>1</td>\n",
       "      <td>0</td>\n",
       "    </tr>\n",
       "    <tr>\n",
       "      <th>4</th>\n",
       "      <td>710616</td>\n",
       "      <td>0</td>\n",
       "      <td>1</td>\n",
       "      <td>0</td>\n",
       "    </tr>\n",
       "  </tbody>\n",
       "</table>\n",
       "</div>"
      ],
      "text/plain": [
       "   user_id  UK  US  CA\n",
       "0   834778   0   1   0\n",
       "1   928468   0   0   1\n",
       "2   822059   0   1   0\n",
       "3   711597   0   1   0\n",
       "4   710616   0   1   0"
      ]
     },
     "execution_count": 49,
     "metadata": {},
     "output_type": "execute_result"
    }
   ],
   "source": [
    "#create dummy and drop the country column\n",
    "co_df[['UK','US','CA']]= pd.get_dummies(co_df['country'])\n",
    "co_df.drop(['country'], axis=1, inplace=True )\n",
    "\n",
    "co_df.head()"
   ]
  },
  {
   "cell_type": "code",
   "execution_count": 50,
   "metadata": {
    "scrolled": true
   },
   "outputs": [
    {
     "data": {
      "text/html": [
       "<div>\n",
       "<style scoped>\n",
       "    .dataframe tbody tr th:only-of-type {\n",
       "        vertical-align: middle;\n",
       "    }\n",
       "\n",
       "    .dataframe tbody tr th {\n",
       "        vertical-align: top;\n",
       "    }\n",
       "\n",
       "    .dataframe thead th {\n",
       "        text-align: right;\n",
       "    }\n",
       "</style>\n",
       "<table border=\"1\" class=\"dataframe\">\n",
       "  <thead>\n",
       "    <tr style=\"text-align: right;\">\n",
       "      <th></th>\n",
       "      <th>UK</th>\n",
       "      <th>US</th>\n",
       "      <th>CA</th>\n",
       "      <th>timestamp</th>\n",
       "      <th>converted</th>\n",
       "      <th>control</th>\n",
       "      <th>treatment</th>\n",
       "      <th>old_page</th>\n",
       "      <th>ab_page</th>\n",
       "      <th>intercept</th>\n",
       "    </tr>\n",
       "    <tr>\n",
       "      <th>user_id</th>\n",
       "      <th></th>\n",
       "      <th></th>\n",
       "      <th></th>\n",
       "      <th></th>\n",
       "      <th></th>\n",
       "      <th></th>\n",
       "      <th></th>\n",
       "      <th></th>\n",
       "      <th></th>\n",
       "      <th></th>\n",
       "    </tr>\n",
       "  </thead>\n",
       "  <tbody>\n",
       "    <tr>\n",
       "      <th>834778</th>\n",
       "      <td>0</td>\n",
       "      <td>1</td>\n",
       "      <td>0</td>\n",
       "      <td>2017-01-14 23:08:43.304998</td>\n",
       "      <td>0</td>\n",
       "      <td>1</td>\n",
       "      <td>0</td>\n",
       "      <td>0</td>\n",
       "      <td>1</td>\n",
       "      <td>1</td>\n",
       "    </tr>\n",
       "    <tr>\n",
       "      <th>928468</th>\n",
       "      <td>0</td>\n",
       "      <td>0</td>\n",
       "      <td>1</td>\n",
       "      <td>2017-01-23 14:44:16.387854</td>\n",
       "      <td>0</td>\n",
       "      <td>0</td>\n",
       "      <td>1</td>\n",
       "      <td>1</td>\n",
       "      <td>0</td>\n",
       "      <td>1</td>\n",
       "    </tr>\n",
       "    <tr>\n",
       "      <th>822059</th>\n",
       "      <td>0</td>\n",
       "      <td>1</td>\n",
       "      <td>0</td>\n",
       "      <td>2017-01-16 14:04:14.719771</td>\n",
       "      <td>1</td>\n",
       "      <td>0</td>\n",
       "      <td>1</td>\n",
       "      <td>1</td>\n",
       "      <td>0</td>\n",
       "      <td>1</td>\n",
       "    </tr>\n",
       "    <tr>\n",
       "      <th>711597</th>\n",
       "      <td>0</td>\n",
       "      <td>1</td>\n",
       "      <td>0</td>\n",
       "      <td>2017-01-22 03:14:24.763511</td>\n",
       "      <td>0</td>\n",
       "      <td>1</td>\n",
       "      <td>0</td>\n",
       "      <td>0</td>\n",
       "      <td>1</td>\n",
       "      <td>1</td>\n",
       "    </tr>\n",
       "    <tr>\n",
       "      <th>710616</th>\n",
       "      <td>0</td>\n",
       "      <td>1</td>\n",
       "      <td>0</td>\n",
       "      <td>2017-01-16 13:14:44.000513</td>\n",
       "      <td>0</td>\n",
       "      <td>0</td>\n",
       "      <td>1</td>\n",
       "      <td>1</td>\n",
       "      <td>0</td>\n",
       "      <td>1</td>\n",
       "    </tr>\n",
       "  </tbody>\n",
       "</table>\n",
       "</div>"
      ],
      "text/plain": [
       "         UK  US  CA                   timestamp  converted  control  \\\n",
       "user_id                                                               \n",
       "834778    0   1   0  2017-01-14 23:08:43.304998          0        1   \n",
       "928468    0   0   1  2017-01-23 14:44:16.387854          0        0   \n",
       "822059    0   1   0  2017-01-16 14:04:14.719771          1        0   \n",
       "711597    0   1   0  2017-01-22 03:14:24.763511          0        1   \n",
       "710616    0   1   0  2017-01-16 13:14:44.000513          0        0   \n",
       "\n",
       "         treatment  old_page  ab_page  intercept  \n",
       "user_id                                           \n",
       "834778           0         0        1          1  \n",
       "928468           1         1        0          1  \n",
       "822059           1         1        0          1  \n",
       "711597           0         0        1          1  \n",
       "710616           1         1        0          1  "
      ]
     },
     "execution_count": 50,
     "metadata": {},
     "output_type": "execute_result"
    }
   ],
   "source": [
    "#join the both df\n",
    "j_df = co_df.set_index('user_id').join(df3.set_index('user_id'), how='inner')\n",
    "j_df.head()"
   ]
  },
  {
   "cell_type": "code",
   "execution_count": 51,
   "metadata": {
    "scrolled": true
   },
   "outputs": [
    {
     "name": "stdout",
     "output_type": "stream",
     "text": [
      "Optimization terminated successfully.\n",
      "         Current function value: 0.366116\n",
      "         Iterations 6\n"
     ]
    },
    {
     "data": {
      "text/html": [
       "<table class=\"simpletable\">\n",
       "<caption>Logit Regression Results</caption>\n",
       "<tr>\n",
       "  <th>Dep. Variable:</th>     <td>converted</td>    <th>  No. Observations:  </th>   <td>290584</td>   \n",
       "</tr>\n",
       "<tr>\n",
       "  <th>Model:</th>               <td>Logit</td>      <th>  Df Residuals:      </th>   <td>290581</td>   \n",
       "</tr>\n",
       "<tr>\n",
       "  <th>Method:</th>               <td>MLE</td>       <th>  Df Model:          </th>   <td>     2</td>   \n",
       "</tr>\n",
       "<tr>\n",
       "  <th>Date:</th>          <td>Sat, 08 Aug 2020</td> <th>  Pseudo R-squ.:     </th>  <td>1.521e-05</td> \n",
       "</tr>\n",
       "<tr>\n",
       "  <th>Time:</th>              <td>01:11:54</td>     <th>  Log-Likelihood:    </th> <td>-1.0639e+05</td>\n",
       "</tr>\n",
       "<tr>\n",
       "  <th>converged:</th>           <td>True</td>       <th>  LL-Null:           </th> <td>-1.0639e+05</td>\n",
       "</tr>\n",
       "<tr>\n",
       "  <th> </th>                      <td> </td>        <th>  LLR p-value:       </th>   <td>0.1984</td>   \n",
       "</tr>\n",
       "</table>\n",
       "<table class=\"simpletable\">\n",
       "<tr>\n",
       "      <td></td>         <th>coef</th>     <th>std err</th>      <th>z</th>      <th>P>|z|</th>  <th>[0.025</th>    <th>0.975]</th>  \n",
       "</tr>\n",
       "<tr>\n",
       "  <th>intercept</th> <td>   -1.9868</td> <td>    0.011</td> <td> -174.174</td> <td> 0.000</td> <td>   -2.009</td> <td>   -1.964</td>\n",
       "</tr>\n",
       "<tr>\n",
       "  <th>CA</th>        <td>   -0.0099</td> <td>    0.013</td> <td>   -0.746</td> <td> 0.456</td> <td>   -0.036</td> <td>    0.016</td>\n",
       "</tr>\n",
       "<tr>\n",
       "  <th>UK</th>        <td>   -0.0507</td> <td>    0.028</td> <td>   -1.786</td> <td> 0.074</td> <td>   -0.106</td> <td>    0.005</td>\n",
       "</tr>\n",
       "</table>"
      ],
      "text/plain": [
       "<class 'statsmodels.iolib.summary.Summary'>\n",
       "\"\"\"\n",
       "                           Logit Regression Results                           \n",
       "==============================================================================\n",
       "Dep. Variable:              converted   No. Observations:               290584\n",
       "Model:                          Logit   Df Residuals:                   290581\n",
       "Method:                           MLE   Df Model:                            2\n",
       "Date:                Sat, 08 Aug 2020   Pseudo R-squ.:               1.521e-05\n",
       "Time:                        01:11:54   Log-Likelihood:            -1.0639e+05\n",
       "converged:                       True   LL-Null:                   -1.0639e+05\n",
       "                                        LLR p-value:                    0.1984\n",
       "==============================================================================\n",
       "                 coef    std err          z      P>|z|      [0.025      0.975]\n",
       "------------------------------------------------------------------------------\n",
       "intercept     -1.9868      0.011   -174.174      0.000      -2.009      -1.964\n",
       "CA            -0.0099      0.013     -0.746      0.456      -0.036       0.016\n",
       "UK            -0.0507      0.028     -1.786      0.074      -0.106       0.005\n",
       "==============================================================================\n",
       "\"\"\""
      ]
     },
     "execution_count": 51,
     "metadata": {},
     "output_type": "execute_result"
    }
   ],
   "source": [
    "# fit a model with the new factors to evalute the compined impact\n",
    "log_mod = sm.Logit(j_df['converted'], j_df[['intercept', 'CA', 'UK']])\n",
    "result = log_mod.fit()\n",
    "result.summary()"
   ]
  },
  {
   "cell_type": "markdown",
   "metadata": {},
   "source": [
    "h. Though you have now looked at the individual factors of country and page on conversion, we would now like to look at an interaction between page and country to see if there significant effects on conversion.  Create the necessary additional columns, and fit the new model.  \n",
    "\n",
    "Provide the summary results, and your conclusions based on the results."
   ]
  },
  {
   "cell_type": "code",
   "execution_count": 54,
   "metadata": {
    "scrolled": true
   },
   "outputs": [
    {
     "data": {
      "text/html": [
       "<div>\n",
       "<style scoped>\n",
       "    .dataframe tbody tr th:only-of-type {\n",
       "        vertical-align: middle;\n",
       "    }\n",
       "\n",
       "    .dataframe tbody tr th {\n",
       "        vertical-align: top;\n",
       "    }\n",
       "\n",
       "    .dataframe thead th {\n",
       "        text-align: right;\n",
       "    }\n",
       "</style>\n",
       "<table border=\"1\" class=\"dataframe\">\n",
       "  <thead>\n",
       "    <tr style=\"text-align: right;\">\n",
       "      <th></th>\n",
       "      <th>UK</th>\n",
       "      <th>US</th>\n",
       "      <th>CA</th>\n",
       "      <th>timestamp</th>\n",
       "      <th>converted</th>\n",
       "      <th>control</th>\n",
       "      <th>treatment</th>\n",
       "      <th>old_page</th>\n",
       "      <th>ab_page</th>\n",
       "      <th>intercept</th>\n",
       "      <th>CA_new</th>\n",
       "      <th>UK_new</th>\n",
       "    </tr>\n",
       "    <tr>\n",
       "      <th>user_id</th>\n",
       "      <th></th>\n",
       "      <th></th>\n",
       "      <th></th>\n",
       "      <th></th>\n",
       "      <th></th>\n",
       "      <th></th>\n",
       "      <th></th>\n",
       "      <th></th>\n",
       "      <th></th>\n",
       "      <th></th>\n",
       "      <th></th>\n",
       "      <th></th>\n",
       "    </tr>\n",
       "  </thead>\n",
       "  <tbody>\n",
       "    <tr>\n",
       "      <th>834778</th>\n",
       "      <td>0</td>\n",
       "      <td>1</td>\n",
       "      <td>0</td>\n",
       "      <td>2017-01-14 23:08:43.304998</td>\n",
       "      <td>0</td>\n",
       "      <td>1</td>\n",
       "      <td>0</td>\n",
       "      <td>0</td>\n",
       "      <td>1</td>\n",
       "      <td>1</td>\n",
       "      <td>0</td>\n",
       "      <td>0</td>\n",
       "    </tr>\n",
       "  </tbody>\n",
       "</table>\n",
       "</div>"
      ],
      "text/plain": [
       "         UK  US  CA                   timestamp  converted  control  \\\n",
       "user_id                                                               \n",
       "834778    0   1   0  2017-01-14 23:08:43.304998          0        1   \n",
       "\n",
       "         treatment  old_page  ab_page  intercept  CA_new  UK_new  \n",
       "user_id                                                           \n",
       "834778           0         0        1          1       0       0  "
      ]
     },
     "execution_count": 54,
     "metadata": {},
     "output_type": "execute_result"
    }
   ],
   "source": [
    "j_df['CA_new'] = j_df['CA'] * j_df['ab_page']\n",
    "j_df['UK_new'] = j_df['UK'] * j_df['ab_page']\n",
    "j_df.head(1)"
   ]
  },
  {
   "cell_type": "code",
   "execution_count": 56,
   "metadata": {
    "scrolled": true
   },
   "outputs": [
    {
     "name": "stdout",
     "output_type": "stream",
     "text": [
      "Optimization terminated successfully.\n",
      "         Current function value: 0.366109\n",
      "         Iterations 6\n"
     ]
    },
    {
     "data": {
      "text/html": [
       "<table class=\"simpletable\">\n",
       "<caption>Logit Regression Results</caption>\n",
       "<tr>\n",
       "  <th>Dep. Variable:</th>     <td>converted</td>    <th>  No. Observations:  </th>   <td>290584</td>   \n",
       "</tr>\n",
       "<tr>\n",
       "  <th>Model:</th>               <td>Logit</td>      <th>  Df Residuals:      </th>   <td>290578</td>   \n",
       "</tr>\n",
       "<tr>\n",
       "  <th>Method:</th>               <td>MLE</td>       <th>  Df Model:          </th>   <td>     5</td>   \n",
       "</tr>\n",
       "<tr>\n",
       "  <th>Date:</th>          <td>Sat, 08 Aug 2020</td> <th>  Pseudo R-squ.:     </th>  <td>3.482e-05</td> \n",
       "</tr>\n",
       "<tr>\n",
       "  <th>Time:</th>              <td>01:15:23</td>     <th>  Log-Likelihood:    </th> <td>-1.0639e+05</td>\n",
       "</tr>\n",
       "<tr>\n",
       "  <th>converged:</th>           <td>True</td>       <th>  LL-Null:           </th> <td>-1.0639e+05</td>\n",
       "</tr>\n",
       "<tr>\n",
       "  <th> </th>                      <td> </td>        <th>  LLR p-value:       </th>   <td>0.1920</td>   \n",
       "</tr>\n",
       "</table>\n",
       "<table class=\"simpletable\">\n",
       "<tr>\n",
       "      <td></td>         <th>coef</th>     <th>std err</th>      <th>z</th>      <th>P>|z|</th>  <th>[0.025</th>    <th>0.975]</th>  \n",
       "</tr>\n",
       "<tr>\n",
       "  <th>intercept</th> <td>   -1.9814</td> <td>    0.016</td> <td> -122.860</td> <td> 0.000</td> <td>   -2.013</td> <td>   -1.950</td>\n",
       "</tr>\n",
       "<tr>\n",
       "  <th>ab_page</th>   <td>   -0.0108</td> <td>    0.023</td> <td>   -0.475</td> <td> 0.635</td> <td>   -0.056</td> <td>    0.034</td>\n",
       "</tr>\n",
       "<tr>\n",
       "  <th>CA</th>        <td>   -0.0257</td> <td>    0.019</td> <td>   -1.363</td> <td> 0.173</td> <td>   -0.063</td> <td>    0.011</td>\n",
       "</tr>\n",
       "<tr>\n",
       "  <th>UK</th>        <td>   -0.0901</td> <td>    0.040</td> <td>   -2.225</td> <td> 0.026</td> <td>   -0.169</td> <td>   -0.011</td>\n",
       "</tr>\n",
       "<tr>\n",
       "  <th>CA_new</th>    <td>    0.0314</td> <td>    0.027</td> <td>    1.181</td> <td> 0.238</td> <td>   -0.021</td> <td>    0.084</td>\n",
       "</tr>\n",
       "<tr>\n",
       "  <th>UK_new</th>    <td>    0.0783</td> <td>    0.057</td> <td>    1.378</td> <td> 0.168</td> <td>   -0.033</td> <td>    0.190</td>\n",
       "</tr>\n",
       "</table>"
      ],
      "text/plain": [
       "<class 'statsmodels.iolib.summary.Summary'>\n",
       "\"\"\"\n",
       "                           Logit Regression Results                           \n",
       "==============================================================================\n",
       "Dep. Variable:              converted   No. Observations:               290584\n",
       "Model:                          Logit   Df Residuals:                   290578\n",
       "Method:                           MLE   Df Model:                            5\n",
       "Date:                Sat, 08 Aug 2020   Pseudo R-squ.:               3.482e-05\n",
       "Time:                        01:15:23   Log-Likelihood:            -1.0639e+05\n",
       "converged:                       True   LL-Null:                   -1.0639e+05\n",
       "                                        LLR p-value:                    0.1920\n",
       "==============================================================================\n",
       "                 coef    std err          z      P>|z|      [0.025      0.975]\n",
       "------------------------------------------------------------------------------\n",
       "intercept     -1.9814      0.016   -122.860      0.000      -2.013      -1.950\n",
       "ab_page       -0.0108      0.023     -0.475      0.635      -0.056       0.034\n",
       "CA            -0.0257      0.019     -1.363      0.173      -0.063       0.011\n",
       "UK            -0.0901      0.040     -2.225      0.026      -0.169      -0.011\n",
       "CA_new         0.0314      0.027      1.181      0.238      -0.021       0.084\n",
       "UK_new         0.0783      0.057      1.378      0.168      -0.033       0.190\n",
       "==============================================================================\n",
       "\"\"\""
      ]
     },
     "execution_count": 56,
     "metadata": {},
     "output_type": "execute_result"
    }
   ],
   "source": [
    "# fit a model with the new factors to evalute the compined impact\n",
    "log_mod = sm.Logit(j_df['converted'], j_df[['intercept', 'ab_page', 'CA', 'UK', 'CA_new', 'UK_new']])\n",
    "result = log_mod.fit()\n",
    "result.summary()"
   ]
  },
  {
   "cell_type": "markdown",
   "metadata": {},
   "source": [
    "### Conclusion\n",
    ">\n",
    "The extra factors have no significant p-values, and none of the country factors have an impact on the conversion rate.We will therefore not reject the null and conclude that by there is not enough evidence to indicate that there is an interaction between the collected country and page that estimate whether or not a user will converts.\n",
    "\n",
    "> Based on the information available, we do not have abundant proof in the bigger context to say that the new page results has more conversions than the old one."
   ]
  },
  {
   "cell_type": "markdown",
   "metadata": {},
   "source": [
    "<a id='conclusions'></a>\n",
    "## Finishing Up\n",
    "\n",
    "\n",
    "\n",
    "\n",
    "\n",
    "\n",
    "\n",
   ]
  },
  {
   "cell_type": "code",
   "execution_count": null,
   "metadata": {},
   "outputs": [],
   "source": [
    "from subprocess import call\n",
    "call(['python', '-m', 'nbconvert', 'Analyze_ab_test_results_notebook.ipynb'])"
   ]
  },
  {
   "cell_type": "code",
   "execution_count": null,
   "metadata": {},
   "outputs": [],
   "source": []
  }
 ],
 "metadata": {
  "kernelspec": {
   "display_name": "Python 3",
   "language": "python",
   "name": "python3"
  },
  "language_info": {
   "codemirror_mode": {
    "name": "ipython",
    "version": 3
   },
   "file_extension": ".py",
   "mimetype": "text/x-python",
   "name": "python",
   "nbconvert_exporter": "python",
   "pygments_lexer": "ipython3",
   "version": "3.6.3"
  }
 },
 "nbformat": 4,
 "nbformat_minor": 2
}
